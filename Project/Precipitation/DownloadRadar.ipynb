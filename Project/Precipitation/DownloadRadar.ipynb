{
 "cells": [
  {
   "cell_type": "code",
   "execution_count": null,
   "metadata": {},
   "outputs": [],
   "source": [
    "from google.cloud import storage\n",
    "\n",
    "def download_public_file(bucket_name, source_blob_name, destination_file_name):\n",
    "    \"\"\"Downloads a public blob from the bucket\"\"\"\n",
    "    # bucket_name=\n",
    "    #source_blob_name=\n",
    "    #destination_file_name=\n",
    "\n",
    "    storage_client=storage.Client.create_anonymous_client()\n",
    "\n",
    "    bucket = storage_client.bucket(bucket_name)\n",
    "    blob= bucket.blob(source_blob_name)\n",
    "    blob.download_to_filename(destination_file_name)\n",
    "\n",
    "    print(\n",
    "        \"Downloaded public blob {} from bucket {} to {}.\".format(\n",
    "            source_blob_name,bucket_name,destination_file_name\n",
    "        )\n",
    "    )"
   ]
  },
  {
   "cell_type": "code",
   "execution_count": 7,
   "metadata": {},
   "outputs": [
    {
     "name": "stdout",
     "output_type": "stream",
     "text": [
      "Downloaded public blob 2010/07/05/KBUF/NWS_NEXRAD_NXL3_KBUF_20100705000000_20100705235959.tar.Z from bucket gcp-public-data-nexrad-l3 to KBUF_20100705.tar.Z.\n"
     ]
    }
   ],
   "source": [
    "\n",
    "from google.cloud import storage\n",
    "\n",
    "def download_public_file(bucket_name, source_blob_name, destination_file_name):\n",
    "    \"\"\"Downloads a public blob from the bucket.\"\"\"\n",
    "    # Create an anonymous client since the bucket is public\n",
    "    storage_client = storage.Client.create_anonymous_client()\n",
    "\n",
    "    # Get the bucket and blob\n",
    "    bucket = storage_client.bucket(bucket_name)\n",
    "    blob = bucket.blob(source_blob_name)\n",
    "\n",
    "    # Download the file to the specified destination\n",
    "    blob.download_to_filename(destination_file_name)\n",
    "\n",
    "    print(\n",
    "        f\"Downloaded public blob {source_blob_name} from bucket {bucket_name} to {destination_file_name}.\"\n",
    "    )\n",
    "\n",
    "# Parameters for downloading\n",
    "bucket_name = \"gcp-public-data-nexrad-l3\"\n",
    "source_blob_name = \"2010/07/05/KBUF/NWS_NEXRAD_NXL3_KBUF_20100705000000_20100705235959.tar.Z\"  # Replace with actual filename\n",
    "destination_file_name = \"KBUF_20100705.tar.Z\"  # Local path to save file\n",
    "\n",
    "# Run the download function\n",
    "download_public_file(bucket_name, source_blob_name, destination_file_name)\n"
   ]
  }
 ],
 "metadata": {
  "kernelspec": {
   "display_name": "RBBenv",
   "language": "python",
   "name": "python3"
  },
  "language_info": {
   "codemirror_mode": {
    "name": "ipython",
    "version": 3
   },
   "file_extension": ".py",
   "mimetype": "text/x-python",
   "name": "python",
   "nbconvert_exporter": "python",
   "pygments_lexer": "ipython3",
   "version": "3.12.8"
  }
 },
 "nbformat": 4,
 "nbformat_minor": 2
}
